{
 "cells": [
  {
   "cell_type": "markdown",
   "id": "4185a877-a6f3-4b6b-9738-196c7ae42f83",
   "metadata": {},
   "source": [
    "## Gerar dados com Pyspark no Hadoop e consultá-los com Pyspark no Hadoop"
   ]
  },
  {
   "cell_type": "code",
   "execution_count": 1,
   "id": "de88ffdc-dfed-4245-8693-e48319ca54f3",
   "metadata": {},
   "outputs": [],
   "source": [
    "import uuid\n",
    "import random\n",
    "import datetime\n",
    "\n",
    "data = []\n",
    "for i in range(1000000, 2000000):\n",
    "    dt = datetime.datetime.fromtimestamp(random.randint(1577847600000000, 1641005999999999) / 1000000)\n",
    "    data.append(\n",
    "        {\n",
    "            \"id\": str(uuid.uuid4()),\n",
    "            \"code\": i,\n",
    "            \"option\": \"option {0}\".format(random.randint(1,5)),\n",
    "            \"description\": \"description {0}\".format(i),\n",
    "            \"value\": random.gauss(400, 50),\n",
    "            \"rate\": random.random(),\n",
    "            \"created_at\": dt,\n",
    "            \"updated_at\": dt,\n",
    "            \"status\": True if random.randint(0,1) == 1 else False,\n",
    "            \"year\": dt.strftime('%Y'),\n",
    "            \"month\": dt.strftime('%m')\n",
    "        }\n",
    "    )"
   ]
  },
  {
   "cell_type": "code",
   "execution_count": 2,
   "id": "b1d81457-a7a8-4453-af9b-77c963f0989c",
   "metadata": {},
   "outputs": [
    {
     "name": "stderr",
     "output_type": "stream",
     "text": [
      "21/12/22 22:53:37 WARN Utils: Your hostname, ubuntu20-vm-01 resolves to a loopback address: 127.0.1.1; using 192.168.15.185 instead (on interface enp0s3)\n",
      "21/12/22 22:53:37 WARN Utils: Set SPARK_LOCAL_IP if you need to bind to another address\n"
     ]
    },
    {
     "name": "stdout",
     "output_type": "stream",
     "text": [
      ":: loading settings :: url = jar:file:/home/danilo/.local/lib/python3.8/site-packages/pyspark/jars/ivy-2.5.0.jar!/org/apache/ivy/core/settings/ivysettings.xml\n"
     ]
    },
    {
     "name": "stderr",
     "output_type": "stream",
     "text": [
      "Ivy Default Cache set to: /home/danilo/.ivy2/cache\n",
      "The jars for the packages stored in: /home/danilo/.ivy2/jars\n",
      "org.apache.spark#spark-avro_2.12 added as a dependency\n",
      ":: resolving dependencies :: org.apache.spark#spark-submit-parent-2ea5882e-2e7c-4ce1-892d-8b27c904ae52;1.0\n",
      "\tconfs: [default]\n",
      "\tfound org.apache.spark#spark-avro_2.12;3.2.0 in central\n",
      "\tfound org.tukaani#xz;1.8 in central\n",
      "\tfound org.spark-project.spark#unused;1.0.0 in central\n",
      ":: resolution report :: resolve 285ms :: artifacts dl 10ms\n",
      "\t:: modules in use:\n",
      "\torg.apache.spark#spark-avro_2.12;3.2.0 from central in [default]\n",
      "\torg.spark-project.spark#unused;1.0.0 from central in [default]\n",
      "\torg.tukaani#xz;1.8 from central in [default]\n",
      "\t---------------------------------------------------------------------\n",
      "\t|                  |            modules            ||   artifacts   |\n",
      "\t|       conf       | number| search|dwnlded|evicted|| number|dwnlded|\n",
      "\t---------------------------------------------------------------------\n",
      "\t|      default     |   3   |   0   |   0   |   0   ||   3   |   0   |\n",
      "\t---------------------------------------------------------------------\n",
      ":: retrieving :: org.apache.spark#spark-submit-parent-2ea5882e-2e7c-4ce1-892d-8b27c904ae52\n",
      "\tconfs: [default]\n",
      "\t0 artifacts copied, 3 already retrieved (0kB/7ms)\n",
      "21/12/22 22:53:38 WARN NativeCodeLoader: Unable to load native-hadoop library for your platform... using builtin-java classes where applicable\n",
      "Using Spark's default log4j profile: org/apache/spark/log4j-defaults.properties\n",
      "Setting default log level to \"WARN\".\n",
      "To adjust logging level use sc.setLogLevel(newLevel). For SparkR, use setLogLevel(newLevel).\n"
     ]
    }
   ],
   "source": [
    "from pyspark.sql import SparkSession\n",
    "\n",
    "spark = SparkSession.builder \\\n",
    "    .master('local[2]') \\\n",
    "    .config('spark.executor.memory', '2g') \\\n",
    "    .config('spark.jars.packages', 'org.apache.spark:spark-avro_2.12:3.2.0') \\\n",
    "    .config('spark.sql.avro.compression.codec', 'snappy') \\\n",
    "    .getOrCreate()"
   ]
  },
  {
   "cell_type": "code",
   "execution_count": 3,
   "id": "a06b1059-fb32-40fd-bb53-1769068e48f6",
   "metadata": {},
   "outputs": [],
   "source": [
    "from pyspark.sql.types import *\n",
    "\n",
    "schema = StructType(\n",
    "    [\n",
    "        StructField('id', StringType(), True),\n",
    "        StructField('code', LongType(), True),\n",
    "        StructField('option', StringType(), True),\n",
    "        StructField('description', StringType(), True),\n",
    "        StructField('value', DoubleType(), True),\n",
    "        StructField('rate', DoubleType(), True),\n",
    "        StructField('created_at', TimestampType(), True),\n",
    "        StructField('updated_at', TimestampType(), True),\n",
    "        StructField('status', BooleanType(), True),\n",
    "        StructField('year', StringType(), True),\n",
    "        StructField('month', StringType(), True)\n",
    "    ]\n",
    ")"
   ]
  },
  {
   "cell_type": "code",
   "execution_count": 4,
   "id": "e7987e79-142e-47df-9146-9d89e9364427",
   "metadata": {},
   "outputs": [
    {
     "name": "stderr",
     "output_type": "stream",
     "text": [
      "21/12/22 22:54:13 WARN TaskSetManager: Stage 0 contains a task of very large size (62978 KiB). The maximum recommended task size is 1000 KiB.\n",
      "                                                                                \r"
     ]
    }
   ],
   "source": [
    "df = spark.createDataFrame(data, schema)\n",
    "df.write \\\n",
    "    .format('avro') \\\n",
    "    .option('compression', 'snappy') \\\n",
    "    .partitionBy(\"year\", \"month\") \\\n",
    "    .save('hdfs://dataserver:9000/warehouse', mode=\"append\")\n",
    "    #.option(\"maxRecordsPerFile\", 1000) \\"
   ]
  },
  {
   "cell_type": "code",
   "execution_count": 5,
   "id": "2fb605ff-edfd-4a9d-a272-b088aab8e77f",
   "metadata": {},
   "outputs": [],
   "source": [
    "df = spark.read.format(\"avro\").load(\"hdfs://dataserver:9000/warehouse\")"
   ]
  },
  {
   "cell_type": "code",
   "execution_count": 6,
   "id": "c7d6968d-bf8c-49f8-87c7-e3ac20287505",
   "metadata": {},
   "outputs": [
    {
     "name": "stderr",
     "output_type": "stream",
     "text": [
      "                                                                                \r"
     ]
    },
    {
     "data": {
      "text/plain": [
       "1000000"
      ]
     },
     "execution_count": 6,
     "metadata": {},
     "output_type": "execute_result"
    }
   ],
   "source": [
    "df.count()"
   ]
  },
  {
   "cell_type": "code",
   "execution_count": 7,
   "id": "62b626f5-4555-4ed5-91e3-af2d222b9284",
   "metadata": {},
   "outputs": [],
   "source": [
    "spark.stop()"
   ]
  },
  {
   "cell_type": "markdown",
   "id": "1f7e6b70-c55e-45ee-9f0d-9abba0d7eed0",
   "metadata": {},
   "source": [
    "## Consultar dados no Hadoop com Drill "
   ]
  },
  {
   "cell_type": "code",
   "execution_count": 8,
   "id": "9b0e1b91-ec6a-4d99-9f49-c30cb7f992ee",
   "metadata": {},
   "outputs": [],
   "source": [
    "import logging\n",
    "import urllib\n",
    "import json\n",
    "import re\n",
    "import io\n",
    "import psycopg2"
   ]
  },
  {
   "cell_type": "code",
   "execution_count": 9,
   "id": "d327e050-a1d5-45a9-836b-3269fac5bcf9",
   "metadata": {},
   "outputs": [],
   "source": [
    "def read_file_system(file_system_query, parameter):\n",
    "    try:\n",
    "        url = 'http://localhost:8047/status'\n",
    "        method = 'GET'\n",
    "        request = urllib.request.Request(url=url, method=method)\n",
    "        with urllib.request.urlopen(request) as f:\n",
    "            response = f.read().decode('utf-8')\n",
    "        if not re.search('Running!', response):\n",
    "            raise Exception('Apache Drill not is running!')\n",
    "            \n",
    "        url = 'http://localhost:8047/query.json'\n",
    "        data = json.dumps({'queryType': 'SQL', 'query': file_system_query.format(**parameter)}).encode('utf-8')\n",
    "        headers = {'Content-Type': 'application/json'}\n",
    "        method = 'POST'\n",
    "        request = urllib.request.Request(url=url, data=data, headers=headers, method=method)\n",
    "        with urllib.request.urlopen(request) as f:\n",
    "            response = f.read().decode('utf-8')\n",
    "            \n",
    "        if json.loads(response)['queryState'] == 'FAILED':\n",
    "            raise Exception('Query failed!')\n",
    "            \n",
    "        return json.loads(response)['rows']\n",
    "            \n",
    "    except Exception as e:\n",
    "        raise Exception(e)"
   ]
  },
  {
   "cell_type": "code",
   "execution_count": 10,
   "id": "0fce5e28-d9d0-45c3-bab8-62fcbb44c81f",
   "metadata": {},
   "outputs": [],
   "source": [
    "def json_to_csv(data):\n",
    "    output = io.StringIO()\n",
    "    string = []\n",
    "    for row in data:\n",
    "        for value in row:\n",
    "            if row[value]:\n",
    "                string.append(str(row[value]))\n",
    "            else:\n",
    "                string.append('')\n",
    "        output.write(';'.join(string) + '\\n')\n",
    "        string = []\n",
    "    output.seek(0)\n",
    "    return output"
   ]
  },
  {
   "cell_type": "code",
   "execution_count": 11,
   "id": "a8225921-4b87-43ec-90df-9bcdc2915a58",
   "metadata": {},
   "outputs": [],
   "source": [
    "def load_pgsql(stage_table_creation, output, table_merge):\n",
    "    try:\n",
    "        connection = psycopg2.connect(host='192.168.43.3',port='5432',dbname='dw_pags',user='postgres',password='123456')\n",
    "        cursor = connection.cursor()\n",
    "        \n",
    "        cursor.execute(stage_table_creation)\n",
    "        connection.commit()\n",
    "        \n",
    "        cursor.copy_from(file=output, table='{0}'.format(re.search('table ([a-zA-Z0-9_-]+)', stage_table_creation).group(1)), sep=';', null='')\n",
    "        connection.commit()\n",
    "        \n",
    "        cursor.execute(table_merge)\n",
    "        connection.commit()\n",
    "        \n",
    "        cursor.close()\n",
    "        connection.close()\n",
    "    except Exception as e:\n",
    "        raise Exception(e)"
   ]
  },
  {
   "cell_type": "code",
   "execution_count": null,
   "id": "12e1da83-0dc0-4f66-b443-34ff4ef8de8c",
   "metadata": {},
   "outputs": [],
   "source": []
  },
  {
   "cell_type": "code",
   "execution_count": 13,
   "id": "71fb21a5-4b60-4d0f-9159-469329d48f6b",
   "metadata": {},
   "outputs": [],
   "source": [
    "import datetime\n",
    "\n",
    "if __name__ == '__main__':\n",
    "    \n",
    "    logging.basicConfig(level=logging.CRITICAL, format='[%(asctime)s %(levelname)s %(name)s] %(message)s')\n",
    "    logger = logging.getLogger(__name__)\n",
    "    \n",
    "    ################################################### parameter ###################################################\n",
    "    interval = 86400\n",
    "    period = 2\n",
    "    end_interval = datetime.datetime.now().replace(hour=0, minute=0, second=0, microsecond=0)\n",
    "\n",
    "    while end_interval < datetime.datetime.now():\n",
    "        end_interval += datetime.timedelta(seconds=interval)\n",
    "    start_interval = end_interval - datetime.timedelta(seconds=interval)\n",
    "\n",
    "    parameter = []\n",
    "    for i in range(period):\n",
    "        parameter.append(\n",
    "            {\n",
    "                \"start_interval\": (start_interval - datetime.timedelta(seconds=interval * i)).strftime('%Y-%m-%d %H:%M:%S'),\n",
    "                 \"end_interval\": (end_interval - datetime.timedelta(seconds=interval * i) - datetime.timedelta(seconds=0)).strftime('%Y-%m-%d %H:%M:%S')\n",
    "            }\n",
    "        )\n",
    "    #################################################################################################################\n",
    "\n",
    "    file_system_query = \"\"\"\n",
    "        select code as nk\n",
    "             , cast(round(value, 0) as integer) as metric\n",
    "             , to_char(created_at, 'yyyy-MM-dd HH:mm:ss.SSS') as created_at\n",
    "          from hdfs.`warehouse`\n",
    "         where created_at >= '{start_interval}' and created_at < '{end_interval}'\n",
    "    \"\"\"\n",
    "    \n",
    "    stage_table_creation = \"\"\"\n",
    "        create temp table sgt_test(\n",
    "            nk integer unique,\n",
    "            metric bigint,\n",
    "            created_at timestamp\n",
    "        )\n",
    "    \"\"\"\n",
    "    \n",
    "    table_merge = \"\"\"\n",
    "        insert into dim_test(nk, metric, created_at)\n",
    "            select nk\n",
    "                 , metric\n",
    "                 , created_at\n",
    "              from sgt_test\n",
    "        on conflict(nk)\n",
    "        do update set metric = excluded.metric, created_at = excluded.created_at    \n",
    "    \"\"\"\n",
    "    \n",
    "    try:\n",
    "        for value in parameter:\n",
    "            data = read_file_system(file_system_query, value)\n",
    "            if data:\n",
    "                output = json_to_csv(data)\n",
    "                load_pgsql(stage_table_creation, output, table_merge)\n",
    "            else:\n",
    "                logger.warning('Query returns empty!')\n",
    "    except Exception as e:\n",
    "        logger.critical(e)"
   ]
  },
  {
   "cell_type": "code",
   "execution_count": null,
   "id": "a0e332e5-c835-428d-a1e5-6fa88f90c24b",
   "metadata": {},
   "outputs": [],
   "source": []
  }
 ],
 "metadata": {
  "kernelspec": {
   "display_name": "Python 3 (ipykernel)",
   "language": "python",
   "name": "python3"
  },
  "language_info": {
   "codemirror_mode": {
    "name": "ipython",
    "version": 3
   },
   "file_extension": ".py",
   "mimetype": "text/x-python",
   "name": "python",
   "nbconvert_exporter": "python",
   "pygments_lexer": "ipython3",
   "version": "3.8.10"
  }
 },
 "nbformat": 4,
 "nbformat_minor": 5
}
