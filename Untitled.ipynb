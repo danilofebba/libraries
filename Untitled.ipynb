{
 "cells": [
  {
   "cell_type": "markdown",
   "id": "4185a877-a6f3-4b6b-9738-196c7ae42f83",
   "metadata": {},
   "source": [
    "## Gerar dados com Pyspark no Hadoop e consultá-los com Pyspark no Hadoop"
   ]
  },
  {
   "cell_type": "code",
   "execution_count": null,
   "id": "de88ffdc-dfed-4245-8693-e48319ca54f3",
   "metadata": {},
   "outputs": [],
   "source": [
    "import uuid\n",
    "import random\n",
    "import datetime\n",
    "\n",
    "data = []\n",
    "for i in range(4000000, 5000000):\n",
    "    dt = datetime.datetime.fromtimestamp(random.randint(1577847600000000, 1641005999999999) / 1000000)\n",
    "    data.append(\n",
    "        {\n",
    "            \"id\": str(uuid.uuid4()),\n",
    "            \"code\": i,\n",
    "            \"option\": \"option {0}\".format(random.randint(1,5)),\n",
    "            \"description\": \"description {0}\".format(i),\n",
    "            \"value\": random.gauss(400, 50),\n",
    "            \"rate\": random.random(),\n",
    "            \"created_at\": dt,\n",
    "            \"updated_at\": dt,\n",
    "            \"status\": True if random.randint(0,1) == 1 else False,\n",
    "            \"year\": dt.strftime('%Y'),\n",
    "            \"month\": dt.strftime('%m')\n",
    "        }\n",
    "    )"
   ]
  },
  {
   "cell_type": "code",
   "execution_count": null,
   "id": "b1d81457-a7a8-4453-af9b-77c963f0989c",
   "metadata": {},
   "outputs": [],
   "source": [
    "from pyspark.sql import SparkSession\n",
    "\n",
    "spark = SparkSession.builder \\\n",
    "    .master('local[2]') \\\n",
    "    .config('spark.executor.memory', '2g') \\\n",
    "    .config('spark.jars.packages', 'org.apache.spark:spark-avro_2.12:3.2.0') \\\n",
    "    .config('spark.sql.avro.compression.codec', 'snappy') \\\n",
    "    .getOrCreate()"
   ]
  },
  {
   "cell_type": "code",
   "execution_count": null,
   "id": "a06b1059-fb32-40fd-bb53-1769068e48f6",
   "metadata": {},
   "outputs": [],
   "source": [
    "from pyspark.sql.types import *\n",
    "\n",
    "schema = StructType(\n",
    "    [\n",
    "        StructField('id', StringType(), True),\n",
    "        StructField('code', LongType(), True),\n",
    "        StructField('option', StringType(), True),\n",
    "        StructField('description', StringType(), True),\n",
    "        StructField('value', DoubleType(), True),\n",
    "        StructField('rate', DoubleType(), True),\n",
    "        StructField('created_at', TimestampType(), True),\n",
    "        StructField('updated_at', TimestampType(), True),\n",
    "        StructField('status', BooleanType(), True),\n",
    "        StructField('year', StringType(), True),\n",
    "        StructField('month', StringType(), True)\n",
    "    ]\n",
    ")"
   ]
  },
  {
   "cell_type": "code",
   "execution_count": null,
   "id": "e7987e79-142e-47df-9146-9d89e9364427",
   "metadata": {},
   "outputs": [],
   "source": [
    "df = spark.createDataFrame(data, schema)\n",
    "df.write \\\n",
    "    .format('avro') \\\n",
    "    .option('compression', 'snappy') \\\n",
    "    .partitionBy(\"year\", \"month\") \\\n",
    "    .save('hdfs://dataserver:9000/warehouse', mode=\"append\")\n",
    "    #.option(\"maxRecordsPerFile\", 1000) \\"
   ]
  },
  {
   "cell_type": "code",
   "execution_count": null,
   "id": "2fb605ff-edfd-4a9d-a272-b088aab8e77f",
   "metadata": {},
   "outputs": [],
   "source": [
    "df = spark.read.format(\"avro\").load(\"hdfs://dataserver:9000/warehouse\")"
   ]
  },
  {
   "cell_type": "code",
   "execution_count": null,
   "id": "c7d6968d-bf8c-49f8-87c7-e3ac20287505",
   "metadata": {},
   "outputs": [],
   "source": [
    "df.count()"
   ]
  },
  {
   "cell_type": "code",
   "execution_count": null,
   "id": "62b626f5-4555-4ed5-91e3-af2d222b9284",
   "metadata": {},
   "outputs": [],
   "source": [
    "spark.stop()"
   ]
  },
  {
   "cell_type": "markdown",
   "id": "1f7e6b70-c55e-45ee-9f0d-9abba0d7eed0",
   "metadata": {},
   "source": [
    "## Consultar dados no Hadoop com Drill "
   ]
  },
  {
   "cell_type": "code",
   "execution_count": null,
   "id": "8b21f00c-3aad-4d71-878e-6f761deffc18",
   "metadata": {},
   "outputs": [],
   "source": [
    "import urllib\n",
    "import json"
   ]
  },
  {
   "cell_type": "code",
   "execution_count": null,
   "id": "5194f196-edc0-4e40-8356-a0b4f677ed62",
   "metadata": {},
   "outputs": [],
   "source": [
    "query = \"\"\"\n",
    "    select code as nk, cast(round(value, 0) as integer) as metric, to_char(created_at, 'yyyy-MM-dd HH:mm:ss.SSS') as created_at from hdfs.`warehouse` limit 10\n",
    "\"\"\""
   ]
  },
  {
   "cell_type": "code",
   "execution_count": null,
   "id": "59330d9d-482a-4d27-839d-daacfec66a4e",
   "metadata": {},
   "outputs": [],
   "source": [
    "url = 'http://localhost:8047/query.json'"
   ]
  },
  {
   "cell_type": "code",
   "execution_count": null,
   "id": "f85f29c5-a3c1-42a5-b571-30273b1304f2",
   "metadata": {},
   "outputs": [],
   "source": [
    "data = json.dumps({'queryType': 'SQL', 'query': query}).encode('utf-8')"
   ]
  },
  {
   "cell_type": "code",
   "execution_count": null,
   "id": "bc3ea597-39f5-4fb9-a70a-d151c32ee143",
   "metadata": {},
   "outputs": [],
   "source": [
    "headers = {'Content-Type': 'application/json'}"
   ]
  },
  {
   "cell_type": "code",
   "execution_count": null,
   "id": "b730f2e5-20d1-4044-aefd-bfb7bf335a74",
   "metadata": {},
   "outputs": [],
   "source": [
    "method = 'POST'"
   ]
  },
  {
   "cell_type": "code",
   "execution_count": null,
   "id": "51307d4f-772c-4614-a72c-16bf7e32044c",
   "metadata": {},
   "outputs": [],
   "source": [
    "request = urllib.request.Request(url=url, data=data, headers=headers, method=method)"
   ]
  },
  {
   "cell_type": "code",
   "execution_count": null,
   "id": "3162e017-5d43-4d4f-a311-0d2cbdbbca06",
   "metadata": {},
   "outputs": [],
   "source": [
    "with urllib.request.urlopen(request) as f:\n",
    "    response = f.read().decode('utf-8')"
   ]
  },
  {
   "cell_type": "markdown",
   "id": "9544af47-3a24-4c9a-aabc-9ddc93c7adec",
   "metadata": {},
   "source": [
    "## Carregar dados para a memória no format CSV"
   ]
  },
  {
   "cell_type": "code",
   "execution_count": null,
   "id": "7071a6df-f843-40f3-a085-95dd98bd845f",
   "metadata": {},
   "outputs": [],
   "source": [
    "import io"
   ]
  },
  {
   "cell_type": "code",
   "execution_count": null,
   "id": "0fce5e28-d9d0-45c3-bab8-62fcbb44c81f",
   "metadata": {},
   "outputs": [],
   "source": [
    "if json.loads(response)['rows'][0]:\n",
    "    output = io.StringIO()\n",
    "    string = []\n",
    "    for row in json.loads(response)['rows']:\n",
    "        for value in row:\n",
    "            if row[value]:\n",
    "                string.append(str(row[value]))\n",
    "            else:\n",
    "                string.append('')\n",
    "        output.write(';'.join(string) + '\\n')\n",
    "        string = []\n",
    "    output.seek(0)"
   ]
  },
  {
   "cell_type": "code",
   "execution_count": null,
   "id": "52c77a5c-c5d4-4772-89cd-d0cbc07d6db6",
   "metadata": {},
   "outputs": [],
   "source": []
  },
  {
   "cell_type": "code",
   "execution_count": null,
   "id": "a8225921-4b87-43ec-90df-9bcdc2915a58",
   "metadata": {},
   "outputs": [],
   "source": [
    "import psycopg2"
   ]
  },
  {
   "cell_type": "code",
   "execution_count": null,
   "id": "2ae4c354-250f-49e0-bd2b-500d668506c4",
   "metadata": {},
   "outputs": [],
   "source": [
    "connection = psycopg2.connect(host='192.168.43.3',port='5432',dbname='dw_pags',user='postgres',password='123456')"
   ]
  },
  {
   "cell_type": "code",
   "execution_count": null,
   "id": "34b0c8c4-3230-4d19-9e51-cf278ab4cdd5",
   "metadata": {},
   "outputs": [],
   "source": [
    "cursor = connection.cursor()"
   ]
  },
  {
   "cell_type": "code",
   "execution_count": null,
   "id": "69c569b4-9540-4a13-97b3-42f8b60c266f",
   "metadata": {},
   "outputs": [],
   "source": []
  },
  {
   "cell_type": "code",
   "execution_count": null,
   "id": "e9ab9c84-d11c-454f-aae5-50c3431eb85d",
   "metadata": {},
   "outputs": [],
   "source": [
    "cursor.execute('create temp table sgt_test(nk integer unique, metric bigint, created_at timestamp)')"
   ]
  },
  {
   "cell_type": "code",
   "execution_count": null,
   "id": "1475a1ec-80b0-4b21-9b8a-8e3483353e5b",
   "metadata": {},
   "outputs": [],
   "source": [
    "connection.commit()"
   ]
  },
  {
   "cell_type": "code",
   "execution_count": null,
   "id": "12e1da83-0dc0-4f66-b443-34ff4ef8de8c",
   "metadata": {},
   "outputs": [],
   "source": []
  },
  {
   "cell_type": "code",
   "execution_count": null,
   "id": "fb2d0cb5-acbc-43a8-87a9-18ec73e90701",
   "metadata": {},
   "outputs": [],
   "source": [
    "cursor.copy_from(file=output, table='sgt_test', sep=';', null='')"
   ]
  },
  {
   "cell_type": "code",
   "execution_count": null,
   "id": "cda0056b-7d0b-47cf-8eba-c3c4671e871c",
   "metadata": {},
   "outputs": [],
   "source": [
    "connection.commit()"
   ]
  },
  {
   "cell_type": "code",
   "execution_count": null,
   "id": "c7e7c7c1-e6a3-46db-a430-96d79b4315ca",
   "metadata": {},
   "outputs": [],
   "source": []
  },
  {
   "cell_type": "code",
   "execution_count": null,
   "id": "082609ba-8fb1-4414-9f28-b445d99b1763",
   "metadata": {},
   "outputs": [],
   "source": [
    "cursor.execute('''\n",
    "    insert into dim_test(nk, metric, created_at)\n",
    "        select nk\n",
    "             , metric\n",
    "             , created_at\n",
    "          from sgt_test\n",
    "    on conflict(nk)\n",
    "    do update set metric = excluded.metric, created_at = excluded.created_at\n",
    "''')"
   ]
  },
  {
   "cell_type": "code",
   "execution_count": null,
   "id": "960af6a0-9f32-451b-ad0c-e4a15545a760",
   "metadata": {},
   "outputs": [],
   "source": [
    "connection.commit()"
   ]
  },
  {
   "cell_type": "code",
   "execution_count": null,
   "id": "9be7df89-2f5b-43b6-b726-ad16cd62a4fb",
   "metadata": {},
   "outputs": [],
   "source": []
  },
  {
   "cell_type": "code",
   "execution_count": null,
   "id": "0c9f5f20-096f-4a16-bb67-64e348b5c3eb",
   "metadata": {},
   "outputs": [],
   "source": [
    "cursor.close()"
   ]
  },
  {
   "cell_type": "code",
   "execution_count": null,
   "id": "c16ffe55-ee60-42ab-b0fa-a5e6ed46fe4f",
   "metadata": {},
   "outputs": [],
   "source": [
    "connection.close()"
   ]
  }
 ],
 "metadata": {
  "kernelspec": {
   "display_name": "Python 3 (ipykernel)",
   "language": "python",
   "name": "python3"
  },
  "language_info": {
   "codemirror_mode": {
    "name": "ipython",
    "version": 3
   },
   "file_extension": ".py",
   "mimetype": "text/x-python",
   "name": "python",
   "nbconvert_exporter": "python",
   "pygments_lexer": "ipython3",
   "version": "3.8.10"
  }
 },
 "nbformat": 4,
 "nbformat_minor": 5
}
