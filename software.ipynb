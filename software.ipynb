{
 "cells": [
  {
   "cell_type": "code",
   "execution_count": 1,
   "id": "a9aa7bd0-ecaf-4a92-b4cf-2e283d470544",
   "metadata": {},
   "outputs": [],
   "source": [
    "import enum\n",
    "import threading\n",
    "import uuid\n",
    "import datetime\n",
    "import random\n",
    "import time"
   ]
  },
  {
   "cell_type": "code",
   "execution_count": 2,
   "id": "f9bad937-8711-4eaf-acaf-270e9e229d60",
   "metadata": {},
   "outputs": [],
   "source": [
    "class channel(enum.Enum):\n",
    "    inbound = 1\n",
    "    email = 2"
   ]
  },
  {
   "cell_type": "code",
   "execution_count": 3,
   "id": "60dfd9eb-dfa6-44a4-b35d-5909ca2428fc",
   "metadata": {},
   "outputs": [],
   "source": [
    "class event(enum.Enum):\n",
    "    start = 1\n",
    "    abandon = 2\n",
    "    handle = 3\n",
    "    end = 4"
   ]
  },
  {
   "cell_type": "code",
   "execution_count": 4,
   "id": "7dee3494-0a6f-46f8-8593-03d4bbdcb9b0",
   "metadata": {},
   "outputs": [],
   "source": [
    "class queue:    \n",
    "    def __init__(self, identification, name, channel_id, service_level_target, service_lever_duration):\n",
    "        self.identification = identification\n",
    "        self.name = name\n",
    "        self.channel_id = channel_id\n",
    "        self.service_level_target = service_level_target\n",
    "        self.service_lever_duration = service_lever_duration\n",
    "        self.contacts = []\n",
    "        \n",
    "    def put_contact(self, contact):\n",
    "        self.contacts.append(contact)\n",
    "        print({'contact_identification': contact['contact_identification'], 'queue': self.name, 'event_identification': event.start.name, 'event_created_at': datetime.datetime.utcnow()})\n",
    "        \n",
    "    def get_contact(self):\n",
    "        return self.contacts.pop(0)\n",
    "    \n",
    "    def remove_contact(self, contact):\n",
    "        self.contacts.remove(contact)"
   ]
  },
  {
   "cell_type": "code",
   "execution_count": 5,
   "id": "01e44272-f47e-437b-8afd-196f23f4d00f",
   "metadata": {},
   "outputs": [],
   "source": [
    "class agent:    \n",
    "    def __init__(self, identification, name):\n",
    "        self.identification = identification\n",
    "        self.name = name"
   ]
  },
  {
   "cell_type": "code",
   "execution_count": 6,
   "id": "2d30f78a-9d17-4bd7-b40c-e39fc8f724db",
   "metadata": {},
   "outputs": [],
   "source": [
    "class agents_connected:    \n",
    "    def __init__(self):\n",
    "        self.number_of_agents_connected = []\n",
    "    \n",
    "    def add_agent(self, agent_identification):\n",
    "        self.number_of_agents_connected.append(agent_identification)\n",
    "        \n",
    "    def remove_agent(self, agent_identification):\n",
    "        self.number_of_agents_connected.remove(agent_identification)"
   ]
  },
  {
   "cell_type": "code",
   "execution_count": 7,
   "id": "3bf7150b-0741-4466-ac94-e84f58ac808f",
   "metadata": {},
   "outputs": [],
   "source": [
    "def system_monitoring(queue):\n",
    "    while True:\n",
    "        if agents_connected.number_of_agents_connected:\n",
    "            if queue.contacts:\n",
    "                for contact in queue.contacts:\n",
    "                    if  datetime.datetime.utcnow() >= contact['created_at'] + datetime.timedelta(seconds=contact['wait_time']):\n",
    "                        try:\n",
    "                            queue.remove_contact(contact)\n",
    "                            print({'contact_identification': contact['contact_identification'], 'queue': queue.name, 'event_identification': event.abandon.name, 'event_created_at': datetime.datetime.utcnow()})\n",
    "                        except:\n",
    "                            pass\n",
    "        else:\n",
    "            if queue.contacts:\n",
    "                for contact in queue.contacts:\n",
    "                    try:\n",
    "                        queue.remove_contact(contact)\n",
    "                        print({'contact_identification': contact['contact_identification'], 'queue': queue.name, 'event_identification': event.abandon.name, 'event_created_at': datetime.datetime.utcnow()})\n",
    "                    except:\n",
    "                        pass"
   ]
  },
  {
   "cell_type": "code",
   "execution_count": 8,
   "id": "3a4c767c-6dd6-490b-84c1-f3a48c0170a7",
   "metadata": {},
   "outputs": [],
   "source": [
    "def consumer(agent, queues):\n",
    "    agents_connected.add_agent(agent.identification)\n",
    "    while True:\n",
    "        for queue in queues:\n",
    "            if queue.contacts:\n",
    "                contact = queue.get_contact()\n",
    "                print({'contact_identification': contact['contact_identification'], 'queue': queue.name, 'agent': agent.name, 'event_identification': event.handle.name, 'event_created_at': datetime.datetime.utcnow()})\n",
    "                time.sleep(contact['handle_time'])\n",
    "                print({'contact_identification': contact['contact_identification'], 'queue': queue.name, 'agent': agent.name, 'event_identification': event.end.name, 'event_created_at': datetime.datetime.utcnow()})\n",
    "                break"
   ]
  },
  {
   "cell_type": "code",
   "execution_count": 9,
   "id": "af336cfd-1ef5-4f09-8103-2f59b255c062",
   "metadata": {},
   "outputs": [],
   "source": [
    "if __name__ == '__main__':\n",
    "    agents_connected = agents_connected()\n",
    "    ################################# first process: queues configurations #################################\n",
    "    v_sac = queue(1, 'v_sac', channel.inbound.value, 0.8, 20)\n",
    "    v_suport = queue(1, 'v_suport', channel.inbound.value, 0.7, 30)\n",
    "    \n",
    "    threading.Thread(target=system_monitoring, args=(v_sac,)).start()\n",
    "    threading.Thread(target=system_monitoring, args=(v_suport,)).start()\n",
    "    ################################# second process: agents configurations #################################\n",
    "    danilo = agent(1, 'Danilo')\n",
    "    luana = agent(2, 'Luana')\n",
    "    daniel = agent(3, 'Daniel')\n",
    "    angela = agent(3, 'Angela')\n",
    "    \n",
    "    threading.Thread(target=consumer, args=(angela, [v_sac, v_suport])).start()\n",
    "    threading.Thread(target=consumer, args=(danilo, [v_sac, v_suport])).start()\n",
    "    threading.Thread(target=consumer, args=(luana, [v_sac])).start()\n",
    "    threading.Thread(target=consumer, args=(daniel, [v_suport])).start()"
   ]
  },
  {
   "cell_type": "code",
   "execution_count": 10,
   "id": "5c125a0a-053b-4557-9a33-40ff5ec70d93",
   "metadata": {},
   "outputs": [
    {
     "name": "stdout",
     "output_type": "stream",
     "text": [
      "{'contact_identification': '522189ef-2b95-455c-9359-e7a41e35b47f', 'queue': 'v_sac', 'event_identification': 'start', 'event_created_at': datetime.datetime(2022, 3, 27, 16, 32, 51, 573366)}{'contact_identification': '522189ef-2b95-455c-9359-e7a41e35b47f', 'queue': 'v_sac', 'agent': 'Luana', 'event_identification': 'handle', 'event_created_at': datetime.datetime(2022, 3, 27, 16, 32, 51, 579019)}\n",
      "\n",
      "{'contact_identification': '5006e492-2526-48b9-a0a1-b190090806dd', 'queue': 'v_sac', 'event_identification': 'start', 'event_created_at': datetime.datetime(2022, 3, 27, 16, 32, 51, 598917)}\n",
      "{'contact_identification': '804c895b-0869-4070-941e-fb0164c4264f', 'queue': 'v_suport', 'event_identification': 'start', 'event_created_at': datetime.datetime(2022, 3, 27, 16, 32, 51, 599512)}\n",
      "{'contact_identification': 'b1def052-5ec9-4ed7-a898-90c4d1e48621', 'queue': 'v_suport', 'event_identification': 'start', 'event_created_at': datetime.datetime(2022, 3, 27, 16, 32, 51, 599688)}\n",
      "{'contact_identification': '350778a5-4859-4187-bfe9-0f0f69db253e', 'queue': 'v_suport', 'event_identification': 'start', 'event_created_at': datetime.datetime(2022, 3, 27, 16, 32, 51, 600125)}\n",
      "{'contact_identification': '5006e492-2526-48b9-a0a1-b190090806dd', 'queue': 'v_sac', 'agent': 'Danilo', 'event_identification': 'handle', 'event_created_at': datetime.datetime(2022, 3, 27, 16, 32, 51, 606356)}{'contact_identification': '804c895b-0869-4070-941e-fb0164c4264f', 'queue': 'v_suport', 'agent': 'Angela', 'event_identification': 'handle', 'event_created_at': datetime.datetime(2022, 3, 27, 16, 32, 51, 617864)}\n",
      "\n",
      "{'contact_identification': 'b1def052-5ec9-4ed7-a898-90c4d1e48621', 'queue': 'v_suport', 'agent': 'Daniel', 'event_identification': 'handle', 'event_created_at': datetime.datetime(2022, 3, 27, 16, 32, 51, 638997)}\n",
      "{'contact_identification': '522189ef-2b95-455c-9359-e7a41e35b47f', 'queue': 'v_sac', 'agent': 'Luana', 'event_identification': 'end', 'event_created_at': datetime.datetime(2022, 3, 27, 16, 32, 53, 589657)}\n",
      "{'contact_identification': '5006e492-2526-48b9-a0a1-b190090806dd', 'queue': 'v_sac', 'agent': 'Danilo', 'event_identification': 'end', 'event_created_at': datetime.datetime(2022, 3, 27, 16, 32, 53, 655480)}\n",
      "{'contact_identification': '350778a5-4859-4187-bfe9-0f0f69db253e', 'queue': 'v_suport', 'agent': 'Danilo', 'event_identification': 'handle', 'event_created_at': datetime.datetime(2022, 3, 27, 16, 32, 53, 655683)}\n",
      "{'contact_identification': '804c895b-0869-4070-941e-fb0164c4264f', 'queue': 'v_suport', 'agent': 'Angela', 'event_identification': 'end', 'event_created_at': datetime.datetime(2022, 3, 27, 16, 32, 54, 632783)}\n",
      "{'contact_identification': 'b1def052-5ec9-4ed7-a898-90c4d1e48621', 'queue': 'v_suport', 'agent': 'Daniel', 'event_identification': 'end', 'event_created_at': datetime.datetime(2022, 3, 27, 16, 32, 54, 643793)}\n",
      "{'contact_identification': '350778a5-4859-4187-bfe9-0f0f69db253e', 'queue': 'v_suport', 'agent': 'Danilo', 'event_identification': 'end', 'event_created_at': datetime.datetime(2022, 3, 27, 16, 32, 56, 698718)}\n"
     ]
    }
   ],
   "source": [
    "    ################################# second process: contacts emulation #################################\n",
    "    for i in range(2):\n",
    "        v_sac.put_contact(\n",
    "            {\n",
    "                \"contact_identification\": str(uuid.uuid4()),\n",
    "                \"created_at\": datetime.datetime.utcnow(),\n",
    "                \"wait_time\": round(random.gauss(9, 0), 0),\n",
    "                \"handle_time\": round(random.gauss(2, 0), 0)\n",
    "            }\n",
    "        )\n",
    "    for i in range(3):\n",
    "        v_suport.put_contact(\n",
    "            {\n",
    "                \"contact_identification\": str(uuid.uuid4()),\n",
    "                \"created_at\": datetime.datetime.utcnow(),\n",
    "                \"wait_time\": round(random.gauss(10, 0), 0),\n",
    "                \"handle_time\": round(random.gauss(3, 0), 0)\n",
    "            }\n",
    "        )"
   ]
  },
  {
   "cell_type": "code",
   "execution_count": null,
   "id": "259a6594-0427-4a01-ac11-4c9a917ba603",
   "metadata": {},
   "outputs": [],
   "source": []
  }
 ],
 "metadata": {
  "kernelspec": {
   "display_name": "Python 3 (ipykernel)",
   "language": "python",
   "name": "python3"
  },
  "language_info": {
   "codemirror_mode": {
    "name": "ipython",
    "version": 3
   },
   "file_extension": ".py",
   "mimetype": "text/x-python",
   "name": "python",
   "nbconvert_exporter": "python",
   "pygments_lexer": "ipython3",
   "version": "3.8.10"
  }
 },
 "nbformat": 4,
 "nbformat_minor": 5
}
