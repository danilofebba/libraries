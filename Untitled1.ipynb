{
 "cells": [
  {
   "cell_type": "markdown",
   "id": "4185a877-a6f3-4b6b-9738-196c7ae42f83",
   "metadata": {},
   "source": [
    "## Gerar dados com Pyspark no Hadoop e consultá-los com Pyspark no Hadoop"
   ]
  },
  {
   "cell_type": "code",
   "execution_count": null,
   "id": "de88ffdc-dfed-4245-8693-e48319ca54f3",
   "metadata": {},
   "outputs": [],
   "source": [
    "import uuid\n",
    "import random\n",
    "import datetime\n",
    "\n",
    "data = []\n",
    "for i in range(4000000, 5000000):\n",
    "    dt = datetime.datetime.fromtimestamp(random.randint(1577847600000000, 1641005999999999) / 1000000)\n",
    "    data.append(\n",
    "        {\n",
    "            \"id\": str(uuid.uuid4()),\n",
    "            \"code\": i,\n",
    "            \"option\": \"option {0}\".format(random.randint(1,5)),\n",
    "            \"description\": \"description {0}\".format(i),\n",
    "            \"value\": random.gauss(400, 50),\n",
    "            \"rate\": random.random(),\n",
    "            \"created_at\": dt,\n",
    "            \"updated_at\": dt,\n",
    "            \"status\": True if random.randint(0,1) == 1 else False,\n",
    "            \"year\": dt.strftime('%Y'),\n",
    "            \"month\": dt.strftime('%m')\n",
    "        }\n",
    "    )"
   ]
  },
  {
   "cell_type": "code",
   "execution_count": null,
   "id": "b1d81457-a7a8-4453-af9b-77c963f0989c",
   "metadata": {},
   "outputs": [],
   "source": [
    "from pyspark.sql import SparkSession\n",
    "\n",
    "spark = SparkSession.builder \\\n",
    "    .master('local[2]') \\\n",
    "    .config('spark.executor.memory', '2g') \\\n",
    "    .config('spark.jars.packages', 'org.apache.spark:spark-avro_2.12:3.2.0') \\\n",
    "    .config('spark.sql.avro.compression.codec', 'snappy') \\\n",
    "    .getOrCreate()"
   ]
  },
  {
   "cell_type": "code",
   "execution_count": null,
   "id": "a06b1059-fb32-40fd-bb53-1769068e48f6",
   "metadata": {},
   "outputs": [],
   "source": [
    "from pyspark.sql.types import *\n",
    "\n",
    "schema = StructType(\n",
    "    [\n",
    "        StructField('id', StringType(), True),\n",
    "        StructField('code', LongType(), True),\n",
    "        StructField('option', StringType(), True),\n",
    "        StructField('description', StringType(), True),\n",
    "        StructField('value', DoubleType(), True),\n",
    "        StructField('rate', DoubleType(), True),\n",
    "        StructField('created_at', TimestampType(), True),\n",
    "        StructField('updated_at', TimestampType(), True),\n",
    "        StructField('status', BooleanType(), True),\n",
    "        StructField('year', StringType(), True),\n",
    "        StructField('month', StringType(), True)\n",
    "    ]\n",
    ")"
   ]
  },
  {
   "cell_type": "code",
   "execution_count": null,
   "id": "e7987e79-142e-47df-9146-9d89e9364427",
   "metadata": {},
   "outputs": [],
   "source": [
    "df = spark.createDataFrame(data, schema)\n",
    "df.write \\\n",
    "    .format('avro') \\\n",
    "    .option('compression', 'snappy') \\\n",
    "    .partitionBy(\"year\", \"month\") \\\n",
    "    .save('hdfs://dataserver:9000/warehouse', mode=\"append\")\n",
    "    #.option(\"maxRecordsPerFile\", 1000) \\"
   ]
  },
  {
   "cell_type": "code",
   "execution_count": null,
   "id": "2fb605ff-edfd-4a9d-a272-b088aab8e77f",
   "metadata": {},
   "outputs": [],
   "source": [
    "df = spark.read.format(\"avro\").load(\"hdfs://dataserver:9000/warehouse\")"
   ]
  },
  {
   "cell_type": "code",
   "execution_count": null,
   "id": "c7d6968d-bf8c-49f8-87c7-e3ac20287505",
   "metadata": {},
   "outputs": [],
   "source": [
    "df.count()"
   ]
  },
  {
   "cell_type": "code",
   "execution_count": null,
   "id": "62b626f5-4555-4ed5-91e3-af2d222b9284",
   "metadata": {},
   "outputs": [],
   "source": [
    "spark.stop()"
   ]
  },
  {
   "cell_type": "markdown",
   "id": "1f7e6b70-c55e-45ee-9f0d-9abba0d7eed0",
   "metadata": {},
   "source": [
    "## Consultar dados no Hadoop com Drill "
   ]
  },
  {
   "cell_type": "code",
   "execution_count": null,
   "id": "9b0e1b91-ec6a-4d99-9f49-c30cb7f992ee",
   "metadata": {},
   "outputs": [],
   "source": [
    "import logging\n",
    "import urllib\n",
    "import json\n",
    "import re\n",
    "import io\n",
    "import psycopg2"
   ]
  },
  {
   "cell_type": "code",
   "execution_count": null,
   "id": "d327e050-a1d5-45a9-836b-3269fac5bcf9",
   "metadata": {},
   "outputs": [],
   "source": [
    "def read_file_system(file_system_query):\n",
    "    try:\n",
    "        url = 'http://localhost:8047/status'\n",
    "        method = 'GET'\n",
    "        request = urllib.request.Request(url=url, method=method)\n",
    "        with urllib.request.urlopen(request) as f:\n",
    "            response = f.read().decode('utf-8')\n",
    "        if not re.search('Running!', response):\n",
    "            raise Exception('Apache Drill not is running!')\n",
    "            \n",
    "        url = 'http://localhost:8047/query.json'\n",
    "        data = json.dumps({'queryType': 'SQL', 'query': query}).encode('utf-8')\n",
    "        headers = {'Content-Type': 'application/json'}\n",
    "        method = 'POST'\n",
    "        request = urllib.request.Request(url=url, data=data, headers=headers, method=method)\n",
    "        with urllib.request.urlopen(request) as f:\n",
    "            response = f.read().decode('utf-8')\n",
    "            \n",
    "        if json.loads(response)['queryState'] == 'FAILED':\n",
    "            raise Exception('Query failed!')\n",
    "            \n",
    "        return json.loads(response)['rows']\n",
    "            \n",
    "    except Exception as e:\n",
    "        raise Exception(e)"
   ]
  },
  {
   "cell_type": "code",
   "execution_count": null,
   "id": "0fce5e28-d9d0-45c3-bab8-62fcbb44c81f",
   "metadata": {},
   "outputs": [],
   "source": [
    "def json_to_csv(data):\n",
    "    output = io.StringIO()\n",
    "    string = []\n",
    "    for row in data:\n",
    "        for value in row:\n",
    "            if row[value]:\n",
    "                string.append(str(row[value]))\n",
    "            else:\n",
    "                string.append('')\n",
    "        output.write(';'.join(string) + '\\n')\n",
    "        string = []\n",
    "    output.seek(0)\n",
    "    return output"
   ]
  },
  {
   "cell_type": "code",
   "execution_count": null,
   "id": "a8225921-4b87-43ec-90df-9bcdc2915a58",
   "metadata": {},
   "outputs": [],
   "source": [
    "def load_pgsql(stage_table, output):\n",
    "    try:\n",
    "        connection = psycopg2.connect(host='192.168.43.3',port='5432',dbname='dw_pags',user='postgres',password='123456')\n",
    "        cursor = connection.cursor()\n",
    "        \n",
    "        cursor.execute(stage_table)\n",
    "        connection.commit()\n",
    "        \n",
    "        cursor.copy_from(file=output, table='sgt_test', sep=';', null='')\n",
    "        connection.commit()\n",
    "        \n",
    "        cursor.execute(\"select * from sgt_test\")\n",
    "        print(cursor.fetchall())\n",
    "        \n",
    "        cursor.close()\n",
    "        connection.close()\n",
    "    except Exception as e:\n",
    "        raise Exception(e)"
   ]
  },
  {
   "cell_type": "code",
   "execution_count": null,
   "id": "12e1da83-0dc0-4f66-b443-34ff4ef8de8c",
   "metadata": {},
   "outputs": [],
   "source": []
  },
  {
   "cell_type": "code",
   "execution_count": null,
   "id": "c7e7c7c1-e6a3-46db-a430-96d79b4315ca",
   "metadata": {},
   "outputs": [],
   "source": []
  },
  {
   "cell_type": "code",
   "execution_count": null,
   "id": "082609ba-8fb1-4414-9f28-b445d99b1763",
   "metadata": {},
   "outputs": [],
   "source": [
    "cursor.execute('''\n",
    "    insert into dim_test(nk, metric, created_at)\n",
    "        select nk\n",
    "             , metric\n",
    "             , created_at\n",
    "          from sgt_test\n",
    "    on conflict(nk)\n",
    "    do update set metric = excluded.metric, created_at = excluded.created_at\n",
    "''')"
   ]
  },
  {
   "cell_type": "code",
   "execution_count": null,
   "id": "960af6a0-9f32-451b-ad0c-e4a15545a760",
   "metadata": {},
   "outputs": [],
   "source": [
    "connection.commit()"
   ]
  },
  {
   "cell_type": "code",
   "execution_count": null,
   "id": "9be7df89-2f5b-43b6-b726-ad16cd62a4fb",
   "metadata": {},
   "outputs": [],
   "source": []
  },
  {
   "cell_type": "code",
   "execution_count": null,
   "id": "a9177a2b-6b53-4a51-bbff-f485e2f9cf24",
   "metadata": {},
   "outputs": [],
   "source": []
  },
  {
   "cell_type": "code",
   "execution_count": null,
   "id": "15f27d17-d1e7-4bcb-bf5d-55ccdbeab948",
   "metadata": {},
   "outputs": [],
   "source": []
  },
  {
   "cell_type": "code",
   "execution_count": null,
   "id": "e25cc6c3-52fa-4ddb-ab5c-caf38cf530ba",
   "metadata": {},
   "outputs": [],
   "source": []
  },
  {
   "cell_type": "code",
   "execution_count": null,
   "id": "8a576a80-8105-4cee-a2c4-ed5690ed4517",
   "metadata": {},
   "outputs": [],
   "source": []
  },
  {
   "cell_type": "code",
   "execution_count": null,
   "id": "71fb21a5-4b60-4d0f-9159-469329d48f6b",
   "metadata": {},
   "outputs": [],
   "source": [
    "if __name__ == '__main__':\n",
    "    \n",
    "    logging.basicConfig(level=logging.DEBUG, format='[%(asctime)s %(levelname)s %(name)s] %(message)s')\n",
    "    logger = logging.getLogger(__name__)\n",
    "\n",
    "    \n",
    "    file_system_query = \"\"\"\n",
    "        select code as nk\n",
    "             , cast(round(value, 0) as integer) as metric\n",
    "             , to_char(created_at, 'yyyy-MM-dd HH:mm:ss.SSS') as created_at\n",
    "          from hdfs.`warehouse`\n",
    "         limit 10\n",
    "    \"\"\"\n",
    "    \n",
    "    stage_table = \"\"\"\n",
    "        create temp table sgt_test(\n",
    "            nk integer unique,\n",
    "            metric bigint,\n",
    "            created_at timestamp\n",
    "        )\n",
    "    \"\"\"\n",
    "    \n",
    "    try:\n",
    "        data = read_file_system(file_system_query)\n",
    "        if data:\n",
    "            output = json_to_csv(data)\n",
    "            load_pgsql(stage_table, output)\n",
    "            \n",
    "            \n",
    "            \n",
    "        else:\n",
    "            logger.warning('Query returns empty!')\n",
    "    except Exception as e:\n",
    "        logger.critical(e)\n",
    "    "
   ]
  },
  {
   "cell_type": "code",
   "execution_count": null,
   "id": "aa861625-d0aa-44a6-b97c-a954fcbd465c",
   "metadata": {},
   "outputs": [],
   "source": [
    "data"
   ]
  },
  {
   "cell_type": "code",
   "execution_count": null,
   "id": "16107128-37a6-48d3-bdf7-de202acce67d",
   "metadata": {},
   "outputs": [],
   "source": []
  }
 ],
 "metadata": {
  "kernelspec": {
   "display_name": "Python 3 (ipykernel)",
   "language": "python",
   "name": "python3"
  },
  "language_info": {
   "codemirror_mode": {
    "name": "ipython",
    "version": 3
   },
   "file_extension": ".py",
   "mimetype": "text/x-python",
   "name": "python",
   "nbconvert_exporter": "python",
   "pygments_lexer": "ipython3",
   "version": "3.8.10"
  }
 },
 "nbformat": 4,
 "nbformat_minor": 5
}
